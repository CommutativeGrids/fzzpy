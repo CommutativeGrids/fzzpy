{
 "cells": [
  {
   "cell_type": "code",
   "execution_count": 2,
   "metadata": {},
   "outputs": [
    {
     "name": "stdout",
     "output_type": "stream",
     "text": [
      "None\n"
     ]
    },
    {
     "ename": "AttributeError",
     "evalue": "module 'fzzpy' has no attribute 'compute'",
     "output_type": "error",
     "traceback": [
      "\u001b[0;31m---------------------------------------------------------------------------\u001b[0m",
      "\u001b[0;31mAttributeError\u001b[0m                            Traceback (most recent call last)",
      "Cell \u001b[0;32mIn[2], line 9\u001b[0m\n\u001b[1;32m      6\u001b[0m filt_op \u001b[39m=\u001b[39m [\u001b[39mTrue\u001b[39;00m, \u001b[39mTrue\u001b[39;00m, \u001b[39mTrue\u001b[39;00m, \u001b[39mTrue\u001b[39;00m, \u001b[39mTrue\u001b[39;00m, \u001b[39mTrue\u001b[39;00m, \u001b[39mTrue\u001b[39;00m, \u001b[39mFalse\u001b[39;00m, \u001b[39mFalse\u001b[39;00m, \u001b[39mFalse\u001b[39;00m]\n\u001b[1;32m      8\u001b[0m \u001b[39m# Call the compute function\u001b[39;00m\n\u001b[0;32m----> 9\u001b[0m persistence\u001b[39m=\u001b[39mfzzpy\u001b[39m.\u001b[39;49mcompute(filt_simp, filt_op)\n\u001b[1;32m     11\u001b[0m \u001b[39m# Print the output\u001b[39;00m\n\u001b[1;32m     12\u001b[0m \u001b[39mprint\u001b[39m(persistence)\n",
      "\u001b[0;31mAttributeError\u001b[0m: module 'fzzpy' has no attribute 'compute'"
     ]
    }
   ],
   "source": [
    "import fzzpy\n",
    "print(fzzpy.__doc__)\n",
    "\n",
    "# Sample input\n",
    "filt_simp = [[0], [1], [2], [0, 1], [0, 2],[1,2],[0,1,2],[0,1,2],[1,2],[0,1]]\n",
    "filt_op = [True, True, True, True, True, True, True, False, False, False]\n",
    "\n",
    "# Call the compute function\n",
    "persistence=fzzpy.compute(filt_simp, filt_op)\n",
    "\n",
    "# Print the output\n",
    "print(persistence)"
   ]
  },
  {
   "cell_type": "code",
   "execution_count": 3,
   "metadata": {},
   "outputs": [
    {
     "name": "stdout",
     "output_type": "stream",
     "text": [
      "/Users/hina/Library/CloudStorage/OneDrive-KyotoUniversity/Documents/KU/fzzpy/fzzpy/__init__.py\n"
     ]
    }
   ],
   "source": [
    "import fzzpy\n",
    "print(fzzpy.__file__)\n"
   ]
  },
  {
   "cell_type": "code",
   "execution_count": null,
   "metadata": {},
   "outputs": [
    {
     "data": {
      "text/plain": [
       "10"
      ]
     },
     "execution_count": 10,
     "metadata": {},
     "output_type": "execute_result"
    }
   ],
   "source": [
    "len(filt_op)"
   ]
  },
  {
   "cell_type": "code",
   "execution_count": null,
   "metadata": {},
   "outputs": [
    {
     "data": {
      "text/plain": [
       "10"
      ]
     },
     "execution_count": 11,
     "metadata": {},
     "output_type": "execute_result"
    }
   ],
   "source": [
    "len(filt_simp)"
   ]
  },
  {
   "cell_type": "code",
   "execution_count": null,
   "metadata": {},
   "outputs": [],
   "source": []
  }
 ],
 "metadata": {
  "kernelspec": {
   "display_name": "TDA",
   "language": "python",
   "name": "python3"
  },
  "language_info": {
   "codemirror_mode": {
    "name": "ipython",
    "version": 3
   },
   "file_extension": ".py",
   "mimetype": "text/x-python",
   "name": "python",
   "nbconvert_exporter": "python",
   "pygments_lexer": "ipython3",
   "version": "3.10.11"
  },
  "orig_nbformat": 4
 },
 "nbformat": 4,
 "nbformat_minor": 2
}
