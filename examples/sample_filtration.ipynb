{
 "cells": [
  {
   "cell_type": "code",
   "execution_count": null,
   "metadata": {},
   "outputs": [],
   "source": [
    "from fzzpy import compute, parse_filtration_file, write_persistence_intervals\n",
    "\n",
    "# Read the filtration file\n",
    "filt_simp, filt_op = parse_filtration_file(\"filtration.txt\")\n",
    "\n",
    "# Compute persistence\n",
    "result = compute(filt_simp, filt_op)\n",
    "\n",
    "# Write the results to another file\n",
    "write_persistence_intervals(result, \"output_intervals.txt\")"
   ]
  },
  {
   "cell_type": "code",
   "execution_count": null,
   "metadata": {},
   "outputs": [],
   "source": []
  }
 ],
 "metadata": {
  "kernelspec": {
   "display_name": "TDA",
   "language": "python",
   "name": "python3"
  },
  "language_info": {
   "codemirror_mode": {
    "name": "ipython",
    "version": 3
   },
   "file_extension": ".py",
   "mimetype": "text/x-python",
   "name": "python",
   "nbconvert_exporter": "python",
   "pygments_lexer": "ipython3",
   "version": "3.10.11"
  }
 },
 "nbformat": 4,
 "nbformat_minor": 2
}
