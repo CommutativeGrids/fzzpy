{
 "cells": [
  {
   "cell_type": "code",
   "execution_count": 3,
   "metadata": {},
   "outputs": [
    {
     "name": "stdout",
     "output_type": "stream",
     "text": [
      "Python wrapper for FastZigzag class from fzz C++ library to reorder tuple elements\n",
      "[(0, 2, 3), (0, 3, 4), (1, 6, 6), (0, 1, 10), (0, 10, 10), (1, 8, 8)]\n",
      "Received 10 simplices and operations\n",
      "Processed barcode has 6 entries.\n"
     ]
    }
   ],
   "source": [
    "import fzzpy\n",
    "print(fzzpy.__doc__)\n",
    "\n",
    "# Sample input\n",
    "filt_simp = [[0], [1], [2], [0, 1], [0, 2],[1,2],[0,1,2],[0,1,2],[1,2],[0,1]]\n",
    "filt_op = [True, True, True, True, True, True, True, False, False, False]\n",
    "\n",
    "# Call the compute function\n",
    "persistence=fzzpy.compute(filt_simp, filt_op,algorithm='twist_reduction')\n",
    "\n",
    "# Print the output\n",
    "print(persistence)"
   ]
  },
  {
   "cell_type": "code",
   "execution_count": null,
   "metadata": {},
   "outputs": [],
   "source": []
  }
 ],
 "metadata": {
  "kernelspec": {
   "display_name": "TDA",
   "language": "python",
   "name": "python3"
  },
  "language_info": {
   "codemirror_mode": {
    "name": "ipython",
    "version": 3
   },
   "file_extension": ".py",
   "mimetype": "text/x-python",
   "name": "python",
   "nbconvert_exporter": "python",
   "pygments_lexer": "ipython3",
   "version": "3.10.11"
  },
  "orig_nbformat": 4
 },
 "nbformat": 4,
 "nbformat_minor": 2
}
